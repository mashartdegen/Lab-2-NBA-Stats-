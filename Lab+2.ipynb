{
 "cells": [
  {
   "cell_type": "markdown",
   "metadata": {},
   "source": [
    "# Statistical Analysis of Correlation in the NBA"
   ]
  },
  {
   "cell_type": "markdown",
   "metadata": {},
   "source": [
    "## Introduction"
   ]
  },
  {
   "cell_type": "markdown",
   "metadata": {},
   "source": [
    "By: Michael Gary\n",
    "Date: 9/27/17 - 10/5/17  \n",
    "\n",
    "*Please run the graphs twice if they appear inaccurate*"
   ]
  },
  {
   "cell_type": "markdown",
   "metadata": {},
   "source": [
    "In this lab, I am going to be investigating correlations between multiple variables in NBA statistics. \n",
    "The data set I've been given includes the probability that various teams will win at certain times in a game. \n",
    "I will be comparing all quantitative variables to the anchor variable for correlation using the correlation coefficient (r), scatter plots, and graphing relationships that I discover. \n",
    "\n",
    "Through this analysis, I hope to answer 3 questions:\n",
    "    1. How are variables related to one another? \n",
    "    2. Do some variables correlate?\n",
    "    3. What conclusions can be drawn based on correlations? \n"
   ]
  },
  {
   "cell_type": "markdown",
   "metadata": {},
   "source": [
    "## About the Data Set"
   ]
  },
  {
   "cell_type": "markdown",
   "metadata": {},
   "source": [
    "This NBA data set was retrieved from an article on Nate Silver's \"538\" statistics website titled *\"Every NBA Team’s Chance Of Winning In Every Minute Across Every Game\"* by Mike Beuoy and Allison McCann (Dated February 18, 2015)."
   ]
  },
  {
   "cell_type": "markdown",
   "metadata": {},
   "source": [
    "## Preparing the Data"
   ]
  },
  {
   "cell_type": "code",
   "execution_count": 7,
   "metadata": {},
   "outputs": [
    {
     "name": "stdout",
     "output_type": "stream",
     "text": [
      "0     0.80556\n",
      "4     0.63889\n",
      "5     0.59091\n",
      "7     0.39623\n",
      "8     0.39815\n",
      "9     0.82000\n",
      "10    0.63462\n",
      "13    0.24528\n",
      "14    0.70755\n",
      "17    0.22642\n",
      "19    0.22115\n",
      "21    0.28571\n",
      "22    0.22642\n",
      "24    0.65385\n",
      "25    0.33654\n",
      "26    0.66981\n",
      "Name: 48, dtype: float64\n"
     ]
    }
   ],
   "source": [
    "# the data that I want to extract from the file is the probability of the top 8 and bottom 8 teams of winning in the 48th minute\n",
    "# from this anchor variable, I'm going graph 3 relationships\n",
    "# to process the data I'm going to use the pandas package\n",
    "import pandas as pd\n",
    "# finished importing pandas as pd\n",
    "nba_data = pd.read_csv(\"NBA_stats/nba.csv\")\n",
    "# using pandas to process the csv file\n",
    "minute_48 = nba_data['48']\n",
    "# selecting column 48 for the 48th minute probability of a team winning\n",
    "# now I need to choose the specific values of the top and bottom 8 teams\n",
    "# the values from the 48th column that I need are #s (top 8) 9,0,10,4,14,26,5,24 AND (bott 8) 8,7,25,21,13,17,19,22\n",
    "del minute_48[1];\n",
    "del minute_48[2];\n",
    "del minute_48[3];\n",
    "del minute_48[6];\n",
    "del minute_48[11];\n",
    "del minute_48[12];\n",
    "del minute_48[15];\n",
    "del minute_48[16];\n",
    "del minute_48[18];\n",
    "del minute_48[20];\n",
    "del minute_48[23];\n",
    "del minute_48[27];\n",
    "del minute_48[28];\n",
    "del minute_48[29];\n",
    "# in order to have only the values that I have selected, I deleted every other value that I do not need\n",
    "print(minute_48)\n",
    "# this yields my new list which has the Y values for my upcoming graphs\n",
    "# edit: this a learning moment!! matplotlib cannot use variables for X and Y values\n",
    "# therefore this list is unnecessary\n",
    "# I will have to copy these values into the Y list instead of typing \"minute_48\"\n",
    "# at least I know how to use pandas!"
   ]
  },
  {
   "cell_type": "markdown",
   "metadata": {},
   "source": [
    "# Number of Wins vs Chance of Winning in the 48th Minute"
   ]
  },
  {
   "cell_type": "markdown",
   "metadata": {},
   "source": [
    "The first statistical analysis piece of this lab will include the anchor variable (chance of winning in 48th minute) and the number of wins the top 8 and bottom 8 teams had in the 2014-2015 NBA season."
   ]
  },
  {
   "cell_type": "markdown",
   "metadata": {},
   "source": [
    "## Preparing and Modeling Data"
   ]
  },
  {
   "cell_type": "code",
   "execution_count": 13,
   "metadata": {
    "scrolled": true
   },
   "outputs": [
    {
     "data": {
      "image/png": "[encoded data removed]",
      "text/plain": [
       "<matplotlib.figure.Figure at 0x114db82e8>"
      ]
     },
     "metadata": {},
     "output_type": "display_data"
    },
    {
     "name": "stdout",
     "output_type": "stream",
     "text": [
      "best fit line:\n",
      "y = -10.06 + 1.40x\n"
     ]
    },
    {
     "data": {
      "text/plain": [
       "0.83268535386301468"
      ]
     },
     "execution_count": 13,
     "metadata": {},
     "output_type": "execute_result"
    }
   ],
   "source": [
    "# first, I am going to input the number of wins the top and bottom 8 teams of the NBA had in 2014-2015\n",
    "# I am going to create variables for each team, and I assign that variable the number of wins the team had\n",
    "# top 8 teams\n",
    "war = 67\n",
    "hawk = 60\n",
    "rock = 56\n",
    "clip = 56\n",
    "griz = 55\n",
    "spur = 55\n",
    "cavs = 53\n",
    "blaz = 51\n",
    "# bottom 8 teams\n",
    "pist = 32\n",
    "nugg = 30\n",
    "king = 29\n",
    "mag = 25\n",
    "lake = 21\n",
    "phil = 18\n",
    "knic = 17\n",
    "timb = 16\n",
    "# these values will be along the x-axis\n",
    "import matplotlib.pyplot as plt\n",
    "# now I have imported the python function called matplotlib\n",
    "# in this bracket, I will have my coordinates\n",
    "plt.plot([67,60,56,56,55,55,53,51], [82,80.556,63.462,63.889,70.755,66.981,59.091,65.385], 'ro')\n",
    "# the first list includes the Xs and the second has the Ys\n",
    "X_big = [67,60,56,56,55,55,53,51]\n",
    "Y_big = [82,80.556,63.462,63.889,70.755,66.981,59.091,65.385]\n",
    "plt.axis([30, 70, 30, 100])\n",
    "# this is my graphs scale (it is slightly unusual but it fits the data well)\n",
    "plt.ylabel('probability of winning (48th min)')\n",
    "plt.xlabel('number of wins in season')\n",
    "# labels for the axes\n",
    "plt.show()\n",
    "# now I want to find the line of regression and plot it\n",
    "def best_fit(X_big, Y_big):\n",
    "\n",
    "    xbar = sum(X_big)/len(X_big)\n",
    "    ybar = sum(Y_big)/len(Y_big)\n",
    "    n = len(X_big) # or len(Y_big)\n",
    "\n",
    "    numer = sum([xi*yi for xi,yi in zip(X_big, Y_big)]) - n * xbar * ybar\n",
    "    denum = sum([xi**2 for xi in X_big]) - n * xbar**2\n",
    "\n",
    "    b = numer / denum\n",
    "    a = ybar - b * xbar\n",
    "\n",
    "    print('best fit line:\\ny = {:.2f} + {:.2f}x'.format(a, b))\n",
    "\n",
    "    return a, b\n",
    "\n",
    "# solution\n",
    "a, b = best_fit(X_big, Y_big)\n",
    "\n",
    "# plot points and fit line\n",
    "plt.scatter(X_big, Y_big)\n",
    "yfit = [a + b * xi for xi in X_big]\n",
    "plt.plot(X_big, yfit)\n",
    "# now I need to find the correlation coefficient to see the strength of the line of best fit\n",
    "import numpy as np\n",
    "# importing the numpy program\n",
    "np.corrcoef(X_big, Y_big)[0, 1]\n",
    "# 0-1 is the range that r can lie in\n",
    "# r can be positive or negative but the relationships I'm plotting are all positive"
   ]
  },
  {
   "cell_type": "markdown",
   "metadata": {},
   "source": [
    "## Analysis"
   ]
  },
  {
   "cell_type": "markdown",
   "metadata": {},
   "source": [
    "The graph of the relationship between a team's number of wins (X values) and the chance of a team winning in the 48th minute (Y values) for the top 8 teams in the NBA is very clean. The points follow a positive and linear trend. The correlation coefficient which measures how well data fits the line of best-fit is equal to 0.833. This value is fairly strong in terms of statistical analysis. By looking at the graph of the points, it is pretty clear that the relationship is linear. Therefore, I used the right regression model. The only reason I can visually see as to why r is not closer to 1, is the point (60,80.556). The y-value is rather high in terms of the given x-value. If that point were removed, the line of best-fit might be more accurate and r would probably be closer to 1. \n",
    "\n",
    "In terms of what can be concluded:\n",
    "- The more wins a team had, the higher probability of winning in the 48th minute\n",
    "- The correlation between these two values is fairly strong, positive, and linear\n",
    "- Conjecture: The 48th minute is the most important minute of the game. The success of a team in the 48th minute will indicate the success of a season"
   ]
  },
  {
   "cell_type": "markdown",
   "metadata": {},
   "source": [
    "I just plotted the relationship between the number of wins a team has versus the chance of a team winning in the 48th minute for the top 8 teams. Now I am going to do the same for the bottom 8 teams in the league. Will the correlation be as strong or stronger than the correlation found in the first graph?"
   ]
  },
  {
   "cell_type": "markdown",
   "metadata": {},
   "source": [
    "## Preparing and Modeling Data Part 2"
   ]
  },
  {
   "cell_type": "code",
   "execution_count": 51,
   "metadata": {},
   "outputs": [
    {
     "data": {
      "image/png": "[encoded data removed]",
      "text/plain": [
       "<matplotlib.figure.Figure at 0x1166eae48>"
      ]
     },
     "metadata": {},
     "output_type": "display_data"
    },
    {
     "name": "stdout",
     "output_type": "stream",
     "text": [
      "best fit line:\n",
      "y = 2.16 + 1.15x\n"
     ]
    },
    {
     "data": {
      "text/plain": [
       "0.96673035626097881"
      ]
     },
     "execution_count": 51,
     "metadata": {},
     "output_type": "execute_result"
    }
   ],
   "source": [
    "import matplotlib.pyplot as plt\n",
    "# I will nw do the same thing that I did for the top 8 teams\n",
    "# lists for X and Y coordinates\n",
    "X = [32,30,29,25,21,18,17,16]\n",
    "Y = [39.815,39.623,33.654,28.571,24.528,22.642,22.115,22.642]\n",
    "# bo stands for blue circle points on the graph\n",
    "plt.plot([32,30,29,25,21,18,17,16], [39.815,39.623,33.654,28.571,24.528,22.642,22.115,22.642], 'bo')\n",
    "plt.axis([0, 45, 0, 45])\n",
    "plt.ylabel('probability of winning (48th min)')\n",
    "plt.xlabel('number of wins in season')\n",
    "# labels for the axes\n",
    "plt.show()\n",
    "# finding the line of regression and plotting it\n",
    "def best_fit(X, Y):\n",
    "\n",
    "    xbar = sum(X)/len(X)\n",
    "    ybar = sum(Y)/len(Y)\n",
    "    n = len(X) # or len(Y)\n",
    "\n",
    "    numer = sum([xi*yi for xi,yi in zip(X, Y)]) - n * xbar * ybar\n",
    "    denum = sum([xi**2 for xi in X]) - n * xbar**2\n",
    "\n",
    "    b = numer / denum\n",
    "    a = ybar - b * xbar\n",
    "\n",
    "    print('best fit line:\\ny = {:.2f} + {:.2f}x'.format(a, b))\n",
    "\n",
    "    return a, b\n",
    "\n",
    "# solution\n",
    "a, b = best_fit(X, Y)\n",
    "\n",
    "# plot points and fit line\n",
    "plt.scatter(X, Y)\n",
    "yfit = [a + b * xi for xi in X]\n",
    "plt.plot(X, yfit)\n",
    "# finding the correlation coefficient (r) to see how well the line fits the data\n",
    "import numpy as np\n",
    "# importing the numpy program\n",
    "np.corrcoef(X, Y)[0, 1]\n",
    "# 0-1 is the range that r can lie in\n",
    "# r can be positive or negative but the relationships I'm plotting are all positive"
   ]
  },
  {
   "cell_type": "markdown",
   "metadata": {},
   "source": [
    "## Analysis"
   ]
  },
  {
   "cell_type": "markdown",
   "metadata": {
    "collapsed": true
   },
   "source": [
    "The graph of the relationship between a team's number of wins (X values) and the chance of a team winning in the 48th minute (Y values) for the worst 8 teams in the NBA is almost perfect. The points follow a positive and linear trend. The correlation coefficient which measures how well data fits the line of best-fit is equal to 0.9667. This value is extremely strong and shows a very clear correlation. The correlation for these 8 teams is stronger than the correlation for the top 8 teams. This does not necessarily mean anything but it is an observation.\n",
    "\n",
    "In terms of what can be concluded (same as the previous graph):\n",
    "- The more wins a team had, the higher probability of winning in the 48th minute\n",
    "- The correlation between these two values is extremely strong, positive, and linear\n",
    "- Conjecture: The 48th minute is the most important minute of the game. The success of a team in the 48th minute will indicate the success of a season"
   ]
  },
  {
   "cell_type": "markdown",
   "metadata": {},
   "source": [
    "Now I want to see the correlation between the number of shots a team takes versus the team's chance of winning in the 48th minute (anchor variable). To accomplish this task, I am going to take the same 16 teams and use their data. "
   ]
  },
  {
   "cell_type": "markdown",
   "metadata": {},
   "source": [
    "## Preparing and Modeling Data Part 3"
   ]
  },
  {
   "cell_type": "code",
   "execution_count": 15,
   "metadata": {},
   "outputs": [
    {
     "data": {
      "image/png": "[encoded data removed]",
      "text/plain": [
       "<matplotlib.figure.Figure at 0x1116caf28>"
      ]
     },
     "metadata": {},
     "output_type": "display_data"
    },
    {
     "name": "stdout",
     "output_type": "stream",
     "text": [
      "best fit line:\n",
      "y = 82.48 + 0.02x\n"
     ]
    },
    {
     "data": {
      "text/plain": [
       "0.14440081313374434"
      ]
     },
     "execution_count": 15,
     "metadata": {},
     "output_type": "execute_result"
    }
   ],
   "source": [
    "import matplotlib.pyplot as plt\n",
    "# I will nw do the same thing that I did for the top 8 teams\n",
    "# lists for X and Y coordinates\n",
    "X_shot = [67,60,56,56,55,55,53,51,32,30,29,25,21,18,17,16]\n",
    "Y_shot = [86.4,81.1,82.9,82.9,81.6,83.1,82.2,85.6,85.5,86.8,79.8,82.2,85.1,81.1,81.4,82.8]\n",
    "# bo stands for blue circle points on the graph\n",
    "plt.plot([67,60,56,56,55,55,53,51,32,30,29,25,21,18,17,16], [86.4,81.1,82.9,82.9,81.6,83.1,82.2,85.6,85.5,86.8,79.8,82.2,85.1,81.1,81.4,82.8], 'bo')\n",
    "plt.axis([0, 70, 75, 90])\n",
    "plt.ylabel('average # of shots taken in a game')\n",
    "plt.xlabel('number of wins in season')\n",
    "# labels for the axes\n",
    "plt.show()\n",
    "# finding the line of regression and plotting it\n",
    "def best_fit(X_shot, Y_shot):\n",
    "\n",
    "    xbar = sum(X_shot)/len(X_shot)\n",
    "    ybar = sum(Y_shot)/len(Y_shot)\n",
    "    n = len(X_shot) # or len(Y_shot)\n",
    "\n",
    "    numer = sum([xi*yi for xi,yi in zip(X_shot, Y_shot)]) - n * xbar * ybar\n",
    "    denum = sum([xi**2 for xi in X_shot]) - n * xbar**2\n",
    "\n",
    "    b = numer / denum\n",
    "    a = ybar - b * xbar\n",
    "\n",
    "    print('best fit line:\\ny = {:.2f} + {:.2f}x'.format(a, b))\n",
    "\n",
    "    return a, b\n",
    "\n",
    "# solution\n",
    "a, b = best_fit(X_shot, Y_shot)\n",
    "\n",
    "# plot points and fit line\n",
    "plt.scatter(X_shot, Y_shot)\n",
    "yfit = [a + b * xi for xi in X_shot]\n",
    "plt.plot(X_shot, yfit)\n",
    "# finding the correlation coefficient (r) to see how well the line fits the data\n",
    "import numpy as np\n",
    "np.corrcoef(X_shot, Y_shot)[0,1]\n",
    "# 0-1 is the range that r can lie in\n",
    "# r can be positive or negative but the relationships I'm plotting are all positive"
   ]
  },
  {
   "cell_type": "markdown",
   "metadata": {},
   "source": [
    "## Analysis"
   ]
  },
  {
   "cell_type": "markdown",
   "metadata": {
    "collapsed": true
   },
   "source": [
    "For my third graph, I wanted to try something different. I used the top and bottom 8 teams in the NBA and found the average number of shots each of those teams would take in a game. For the X values, I used the number of wins the 16 teams had in the 2014-2015 season. These values were paired up with the Y values of the probability that a team would win in the 48th minute. The relationship between these two variables is very weak. The correlation coefficient is almost equal to zero at 0.14444. The data points are not very close to the line of best fit. \n",
    "\n",
    "Therefore I can make these conclusions:\n",
    "- The relationship between the number of wins in a season vs the number of shots taken on average is weak, positive, and linear\n",
    "- The number of wins a team has does not indicate how many shots a team takes on average\n",
    "- Higher number of shots does not produce success necessarily\n",
    "- Possibly, the conversion percentage of shots taken vs number of wins would have stronger correlation"
   ]
  },
  {
   "cell_type": "markdown",
   "metadata": {},
   "source": [
    "# Conclusion"
   ]
  },
  {
   "cell_type": "markdown",
   "metadata": {
    "collapsed": true
   },
   "source": [
    "Conclusions including answers to the three essential questions:\n",
    "- The more wins a team had, the higher probability of winning in the 48th minute (true for both the best and worst teams in the NBA)\n",
    "- Conjecture: The 48th minute is the most important minute of the game. The success of a team in the 48th minute will indicate the success of a season\n",
    "- The number of wins a team has does not indicate how many shots a team takes on average\n",
    "- Higher number of shots does not produce success necessarily\n",
    "- Further exploration? : Possibly, the conversion percentage of shots taken vs number of wins would have stronger correlation"
   ]
  },
  {
   "cell_type": "markdown",
   "metadata": {
    "collapsed": true
   },
   "source": [
    "## Acknowledgements"
   ]
  },
  {
   "cell_type": "markdown",
   "metadata": {},
   "source": [
    "- Thank you to Doran Wu for coding shortcuts\n",
    "- Thank you to Ms. Sconyers for providing learning resources that allowed me to create a successful lab\n",
    "- Thank you to Google for tutorials and further NBA data\n",
    "- Link to Part 3 data: <https://stats.nba.com/teams/shots-general/?Season=2014-15&SeasonType=Regular%20Season>"
   ]
  }
 ],
 "metadata": {
  "kernelspec": {
   "display_name": "Python 3",
   "language": "python",
   "name": "python3"
  },
  "language_info": {
   "codemirror_mode": {
    "name": "ipython",
    "version": 3
   },
   "file_extension": ".py",
   "mimetype": "text/x-python",
   "name": "python",
   "nbconvert_exporter": "python",
   "pygments_lexer": "ipython3",
   "version": "3.6.1"
  }
 },
 "nbformat": 4,
 "nbformat_minor": 2
}
